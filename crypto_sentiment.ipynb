{
 "cells": [
  {
   "cell_type": "markdown",
   "metadata": {},
   "source": [
    "# Unit 12 - Tales from the Crypto\n",
    "\n",
    "---\n"
   ]
  },
  {
   "cell_type": "markdown",
   "metadata": {},
   "source": [
    "## 1. Sentiment Analysis\n",
    "\n",
    "Use the [newsapi](https://newsapi.org/) to pull the latest news articles for Bitcoin and Ethereum and create a DataFrame of sentiment scores for each coin.\n",
    "\n",
    "Use descriptive statistics to answer the following questions:\n",
    "1. Which coin had the highest mean positive score?\n",
    "2. Which coin had the highest negative score?\n",
    "3. Which coin had the highest positive score?"
   ]
  },
  {
   "cell_type": "code",
   "execution_count": 1,
   "metadata": {},
   "outputs": [
    {
     "name": "stderr",
     "output_type": "stream",
     "text": [
      "[nltk_data] Downloading package vader_lexicon to\n",
      "[nltk_data]     C:\\Users\\Diana\\AppData\\Roaming\\nltk_data...\n",
      "[nltk_data]   Package vader_lexicon is already up-to-date!\n"
     ]
    }
   ],
   "source": [
    "# Initial imports\n",
    "import os\n",
    "import pandas as pd\n",
    "from dotenv import load_dotenv\n",
    "import nltk as nltk\n",
    "nltk.download('vader_lexicon')\n",
    "from nltk.sentiment.vader import SentimentIntensityAnalyzer\n",
    "analyzer = SentimentIntensityAnalyzer()\n",
    "from newsapi.newsapi_client import NewsApiClient\n",
    "%matplotlib inline"
   ]
  },
  {
   "cell_type": "code",
   "execution_count": 2,
   "metadata": {},
   "outputs": [
    {
     "data": {
      "text/plain": [
       "True"
      ]
     },
     "execution_count": 2,
     "metadata": {},
     "output_type": "execute_result"
    }
   ],
   "source": [
    "# Read your api key environment variable\n",
    "load_dotenv()"
   ]
  },
  {
   "cell_type": "code",
   "execution_count": 3,
   "metadata": {},
   "outputs": [],
   "source": [
    "# Create a newsapi client\n",
    "newsapi = NewsApiClient(api_key=os.environ[\"NEWS_API_KEY\"])"
   ]
  },
  {
   "cell_type": "code",
   "execution_count": 4,
   "metadata": {},
   "outputs": [
    {
     "data": {
      "text/plain": [
       "142"
      ]
     },
     "execution_count": 4,
     "metadata": {},
     "output_type": "execute_result"
    }
   ],
   "source": [
    "# Fetch the Bitcoin news articles\n",
    "bitcoin_news_en = newsapi.get_everything(\n",
    "    q=\"bitcoin AND canada AND 2020\",\n",
    "    language=\"en\"\n",
    ")\n",
    "bitcoin_news_en[\"totalResults\"]"
   ]
  },
  {
   "cell_type": "code",
   "execution_count": 5,
   "metadata": {},
   "outputs": [
    {
     "data": {
      "text/plain": [
       "39"
      ]
     },
     "execution_count": 5,
     "metadata": {},
     "output_type": "execute_result"
    }
   ],
   "source": [
    "# Fetch the Ethereum news articles\n",
    "ethereum_news_en = newsapi.get_everything(\n",
    "    q=\"ethereum AND canada AND 2020\",\n",
    "    language=\"en\"\n",
    ")\n",
    "ethereum_news_en[\"totalResults\"]"
   ]
  },
  {
   "cell_type": "code",
   "execution_count": 6,
   "metadata": {},
   "outputs": [],
   "source": [
    "# Create the Bitcoin sentiment scores DataFrame\n",
    "\n",
    "def create_df(news, language):\n",
    "    articles = []\n",
    "    for article in news:\n",
    "        try:\n",
    "            title = article[\"title\"]\n",
    "            description = article[\"description\"]\n",
    "            text = article[\"content\"]\n",
    "            date = article[\"publishedAt\"][:10]\n",
    "\n",
    "            articles.append({\n",
    "                \"title\": title,\n",
    "                \"description\": description,\n",
    "                \"text\": text,\n",
    "                \"date\": date,\n",
    "                \"language\": language\n",
    "            })\n",
    "        except AttributeError:\n",
    "            pass\n",
    "\n",
    "    return pd.DataFrame(articles)\n",
    "\n",
    "bitcoin_news_en_df = create_df(bitcoin_news_en[\"articles\"], \"en\")\n",
    "\n"
   ]
  },
  {
   "cell_type": "code",
   "execution_count": 7,
   "metadata": {},
   "outputs": [],
   "source": [
    "# Create the Ethereum sentiment scores DataFrame\n",
    "def create_df(news, language):\n",
    "    articles = []\n",
    "    for article in news:\n",
    "        try:\n",
    "            title = article[\"title\"]\n",
    "            description = article[\"description\"]\n",
    "            text = article[\"content\"]\n",
    "            date = article[\"publishedAt\"][:10]\n",
    "\n",
    "            articles.append({\n",
    "                \"title\": title,\n",
    "                \"description\": description,\n",
    "                \"text\": text,\n",
    "                \"date\": date,\n",
    "                \"language\": language\n",
    "            })\n",
    "        except AttributeError:\n",
    "            pass\n",
    "\n",
    "    return pd.DataFrame(articles)\n",
    "\n",
    "ethereum_news_en_df = create_df(ethereum_news_en[\"articles\"], \"en\")"
   ]
  },
  {
   "cell_type": "code",
   "execution_count": 8,
   "metadata": {},
   "outputs": [
    {
     "data": {
      "text/html": [
       "<div>\n",
       "<style scoped>\n",
       "    .dataframe tbody tr th:only-of-type {\n",
       "        vertical-align: middle;\n",
       "    }\n",
       "\n",
       "    .dataframe tbody tr th {\n",
       "        vertical-align: top;\n",
       "    }\n",
       "\n",
       "    .dataframe thead th {\n",
       "        text-align: right;\n",
       "    }\n",
       "</style>\n",
       "<table border=\"1\" class=\"dataframe\">\n",
       "  <thead>\n",
       "    <tr style=\"text-align: right;\">\n",
       "      <th></th>\n",
       "      <th>title</th>\n",
       "      <th>description</th>\n",
       "      <th>text</th>\n",
       "      <th>date</th>\n",
       "      <th>language</th>\n",
       "    </tr>\n",
       "  </thead>\n",
       "  <tbody>\n",
       "    <tr>\n",
       "      <th>count</th>\n",
       "      <td>20</td>\n",
       "      <td>20</td>\n",
       "      <td>20</td>\n",
       "      <td>20</td>\n",
       "      <td>20</td>\n",
       "    </tr>\n",
       "    <tr>\n",
       "      <th>unique</th>\n",
       "      <td>20</td>\n",
       "      <td>19</td>\n",
       "      <td>20</td>\n",
       "      <td>15</td>\n",
       "      <td>1</td>\n",
       "    </tr>\n",
       "    <tr>\n",
       "      <th>top</th>\n",
       "      <td>More Bitcoin Miners Head to America, Partly fo...</td>\n",
       "      <td>Bit Digital, Inc. (Nasdaq: BTBT) (\"Bit Digital...</td>\n",
       "      <td>NEW YORK, July 27, 2021 /PRNewswire/ -- Bit Di...</td>\n",
       "      <td>2021-07-19</td>\n",
       "      <td>en</td>\n",
       "    </tr>\n",
       "    <tr>\n",
       "      <th>freq</th>\n",
       "      <td>1</td>\n",
       "      <td>2</td>\n",
       "      <td>1</td>\n",
       "      <td>3</td>\n",
       "      <td>20</td>\n",
       "    </tr>\n",
       "  </tbody>\n",
       "</table>\n",
       "</div>"
      ],
      "text/plain": [
       "                                                    title  \\\n",
       "count                                                  20   \n",
       "unique                                                 20   \n",
       "top     More Bitcoin Miners Head to America, Partly fo...   \n",
       "freq                                                    1   \n",
       "\n",
       "                                              description  \\\n",
       "count                                                  20   \n",
       "unique                                                 19   \n",
       "top     Bit Digital, Inc. (Nasdaq: BTBT) (\"Bit Digital...   \n",
       "freq                                                    2   \n",
       "\n",
       "                                                     text        date language  \n",
       "count                                                  20          20       20  \n",
       "unique                                                 20          15        1  \n",
       "top     NEW YORK, July 27, 2021 /PRNewswire/ -- Bit Di...  2021-07-19       en  \n",
       "freq                                                    1           3       20  "
      ]
     },
     "execution_count": 8,
     "metadata": {},
     "output_type": "execute_result"
    }
   ],
   "source": [
    "# Describe the Bitcoin Sentiment\n",
    "bitcoin_news_en_df.describe()"
   ]
  },
  {
   "cell_type": "code",
   "execution_count": 9,
   "metadata": {},
   "outputs": [
    {
     "data": {
      "text/html": [
       "<div>\n",
       "<style scoped>\n",
       "    .dataframe tbody tr th:only-of-type {\n",
       "        vertical-align: middle;\n",
       "    }\n",
       "\n",
       "    .dataframe tbody tr th {\n",
       "        vertical-align: top;\n",
       "    }\n",
       "\n",
       "    .dataframe thead th {\n",
       "        text-align: right;\n",
       "    }\n",
       "</style>\n",
       "<table border=\"1\" class=\"dataframe\">\n",
       "  <thead>\n",
       "    <tr style=\"text-align: right;\">\n",
       "      <th></th>\n",
       "      <th>title</th>\n",
       "      <th>description</th>\n",
       "      <th>text</th>\n",
       "      <th>date</th>\n",
       "      <th>language</th>\n",
       "    </tr>\n",
       "  </thead>\n",
       "  <tbody>\n",
       "    <tr>\n",
       "      <th>count</th>\n",
       "      <td>20</td>\n",
       "      <td>20</td>\n",
       "      <td>20</td>\n",
       "      <td>20</td>\n",
       "      <td>20</td>\n",
       "    </tr>\n",
       "    <tr>\n",
       "      <th>unique</th>\n",
       "      <td>20</td>\n",
       "      <td>20</td>\n",
       "      <td>20</td>\n",
       "      <td>12</td>\n",
       "      <td>1</td>\n",
       "    </tr>\n",
       "    <tr>\n",
       "      <th>top</th>\n",
       "      <td>Binance news, Circle plans to go public, and b...</td>\n",
       "      <td>\"Shareholder &amp; Future Plans Update\"VANCOUVER, ...</td>\n",
       "      <td>Bitcoin bounced back toward $39,000 on Wednesd...</td>\n",
       "      <td>2021-07-30</td>\n",
       "      <td>en</td>\n",
       "    </tr>\n",
       "    <tr>\n",
       "      <th>freq</th>\n",
       "      <td>1</td>\n",
       "      <td>1</td>\n",
       "      <td>1</td>\n",
       "      <td>4</td>\n",
       "      <td>20</td>\n",
       "    </tr>\n",
       "  </tbody>\n",
       "</table>\n",
       "</div>"
      ],
      "text/plain": [
       "                                                    title  \\\n",
       "count                                                  20   \n",
       "unique                                                 20   \n",
       "top     Binance news, Circle plans to go public, and b...   \n",
       "freq                                                    1   \n",
       "\n",
       "                                              description  \\\n",
       "count                                                  20   \n",
       "unique                                                 20   \n",
       "top     \"Shareholder & Future Plans Update\"VANCOUVER, ...   \n",
       "freq                                                    1   \n",
       "\n",
       "                                                     text        date language  \n",
       "count                                                  20          20       20  \n",
       "unique                                                 20          12        1  \n",
       "top     Bitcoin bounced back toward $39,000 on Wednesd...  2021-07-30       en  \n",
       "freq                                                    1           4       20  "
      ]
     },
     "execution_count": 9,
     "metadata": {},
     "output_type": "execute_result"
    }
   ],
   "source": [
    "# Describe the Ethereum Sentiment\n",
    "ethereum_news_en_df.describe()"
   ]
  },
  {
   "cell_type": "markdown",
   "metadata": {},
   "source": [
    "### Questions:\n",
    "\n",
    "Q: Which coin had the highest mean positive score?\n",
    "\n",
    "A: \n",
    "\n",
    "Q: Which coin had the highest compound score?\n",
    "\n",
    "A: \n",
    "\n",
    "Q. Which coin had the highest positive score?\n",
    "\n",
    "A: "
   ]
  },
  {
   "cell_type": "markdown",
   "metadata": {},
   "source": [
    "---"
   ]
  },
  {
   "cell_type": "markdown",
   "metadata": {},
   "source": [
    "## 2. Natural Language Processing\n",
    "---\n",
    "###   Tokenizer\n",
    "\n",
    "In this section, you will use NLTK and Python to tokenize the text for each coin. Be sure to:\n",
    "1. Lowercase each word.\n",
    "2. Remove Punctuation.\n",
    "3. Remove Stopwords."
   ]
  },
  {
   "cell_type": "code",
   "execution_count": 10,
   "metadata": {},
   "outputs": [],
   "source": [
    "from nltk.tokenize import word_tokenize, sent_tokenize\n",
    "from nltk.corpus import stopwords\n",
    "from nltk.stem import WordNetLemmatizer, PorterStemmer\n",
    "from string import punctuation\n",
    "import re"
   ]
  },
  {
   "cell_type": "code",
   "execution_count": 11,
   "metadata": {},
   "outputs": [],
   "source": [
    "# Instantiate the lemmatizer\n",
    "lemmatizer = WordNetLemmatizer()\n",
    "\n",
    "# Create a list of stopwords\n",
    "sw = set(stopwords.words('english'))\n",
    "\n",
    "# Expand the default stopwords list if necessary\n",
    "# YOUR CODE HERE!"
   ]
  },
  {
   "cell_type": "code",
   "execution_count": 12,
   "metadata": {},
   "outputs": [],
   "source": [
    "# Complete the tokenizer function\n",
    "words =[]\n",
    "\n",
    "def tokenizer(bitcoin_news_en_df):\n",
    "\n",
    "    sw = set(stopwords.words('english'))\n",
    "    regex = re.compile(\"[^a-zA-Z ]\")\n",
    "    re_clean = regex.sub('', article)\n",
    "    words = word_tokenize(re_clean)\n",
    "    output = [word.lower() for word in words if word.lower() not in sw]\n",
    "    return tokens\n",
    "    \n",
    "    # Remove the punctuation from text\n",
    "\n",
    "   \n",
    "    # Create a tokenized list of the words\n",
    "    \n",
    "    \n",
    "    # Lemmatize words into root words\n",
    "\n",
    "   \n",
    "    # Convert the words to lowercase\n",
    "    \n",
    "    \n",
    "    # Remove the stop words\n",
    "    \n",
    "    \n",
    " "
   ]
  },
  {
   "cell_type": "code",
   "execution_count": 13,
   "metadata": {},
   "outputs": [
    {
     "data": {
      "text/html": [
       "<div>\n",
       "<style scoped>\n",
       "    .dataframe tbody tr th:only-of-type {\n",
       "        vertical-align: middle;\n",
       "    }\n",
       "\n",
       "    .dataframe tbody tr th {\n",
       "        vertical-align: top;\n",
       "    }\n",
       "\n",
       "    .dataframe thead th {\n",
       "        text-align: right;\n",
       "    }\n",
       "</style>\n",
       "<table border=\"1\" class=\"dataframe\">\n",
       "  <thead>\n",
       "    <tr style=\"text-align: right;\">\n",
       "      <th></th>\n",
       "      <th>title</th>\n",
       "      <th>description</th>\n",
       "      <th>text</th>\n",
       "      <th>date</th>\n",
       "      <th>language</th>\n",
       "    </tr>\n",
       "  </thead>\n",
       "  <tbody>\n",
       "    <tr>\n",
       "      <th>0</th>\n",
       "      <td>More Bitcoin Miners Head to America, Partly fo...</td>\n",
       "      <td>\"Well before China decided to kick out all of ...</td>\n",
       "      <td>The U.S. has fast become the new darling of th...</td>\n",
       "      <td>2021-07-18</td>\n",
       "      <td>en</td>\n",
       "    </tr>\n",
       "    <tr>\n",
       "      <th>1</th>\n",
       "      <td>This Week in Apps: Clubhouse opens up, Twitter...</td>\n",
       "      <td>&lt;ol&gt;&lt;li&gt;This Week in Apps: Clubhouse opens up,...</td>\n",
       "      <td>Welcome back to This Week in Apps, the weekly ...</td>\n",
       "      <td>2021-07-24</td>\n",
       "      <td>en</td>\n",
       "    </tr>\n",
       "    <tr>\n",
       "      <th>2</th>\n",
       "      <td>Stock market news live updates: Wall Street di...</td>\n",
       "      <td>&lt;ol&gt;&lt;li&gt;Stock market news live updates: Wall S...</td>\n",
       "      <td>Rising concerns about inflation and the resurg...</td>\n",
       "      <td>2021-07-19</td>\n",
       "      <td>en</td>\n",
       "    </tr>\n",
       "    <tr>\n",
       "      <th>3</th>\n",
       "      <td>US futures fall with stocks on China selloff -...</td>\n",
       "      <td>&lt;ol&gt;&lt;li&gt;US futures fall with stocks on China s...</td>\n",
       "      <td>U.S. stocks fell from all-time highs as invest...</td>\n",
       "      <td>2021-07-27</td>\n",
       "      <td>en</td>\n",
       "    </tr>\n",
       "    <tr>\n",
       "      <th>4</th>\n",
       "      <td>What if bitcoin went to zero?</td>\n",
       "      <td>A thought experiment helps uncover the links b...</td>\n",
       "      <td>THE RECENT expansion of the crypto-universe is...</td>\n",
       "      <td>2021-08-02</td>\n",
       "      <td>en</td>\n",
       "    </tr>\n",
       "    <tr>\n",
       "      <th>5</th>\n",
       "      <td>Here's Why Riot Blockchain Stock Was Up 39% in...</td>\n",
       "      <td>Analysts were loving its deal with a fintech c...</td>\n",
       "      <td>What happened\\r\\nShares of cryptocurrency mini...</td>\n",
       "      <td>2021-07-05</td>\n",
       "      <td>en</td>\n",
       "    </tr>\n",
       "    <tr>\n",
       "      <th>6</th>\n",
       "      <td>SEC Commissioner Has Had It With Bitcoin ETF O...</td>\n",
       "      <td>The SEC Commission’s leading bitcoin advocate ...</td>\n",
       "      <td>Hester Peirce \\r\\nHester Peirce \\r\\nSecurities...</td>\n",
       "      <td>2021-07-22</td>\n",
       "      <td>en</td>\n",
       "    </tr>\n",
       "    <tr>\n",
       "      <th>7</th>\n",
       "      <td>: Here’s what could turn a ‘breather’ for stoc...</td>\n",
       "      <td>Chip stocks are where investors are going to g...</td>\n",
       "      <td>After the Fourth of July holiday, equities loo...</td>\n",
       "      <td>2021-07-06</td>\n",
       "      <td>en</td>\n",
       "    </tr>\n",
       "    <tr>\n",
       "      <th>8</th>\n",
       "      <td>Bitcoin mining operations rise in US and Kazak...</td>\n",
       "      <td>Mass exodus of bitcoin mining from China could...</td>\n",
       "      <td>The US and Kazakhstan are seeing a surge in bi...</td>\n",
       "      <td>2021-07-19</td>\n",
       "      <td>en</td>\n",
       "    </tr>\n",
       "    <tr>\n",
       "      <th>9</th>\n",
       "      <td>Survey: Canadian Investors &amp; Advisors Bullish ...</td>\n",
       "      <td>Heading into the third quarter of 2021, Canadi...</td>\n",
       "      <td>TORONTO, July 16, 2021 /CNW/ - Heading into th...</td>\n",
       "      <td>2021-07-16</td>\n",
       "      <td>en</td>\n",
       "    </tr>\n",
       "    <tr>\n",
       "      <th>10</th>\n",
       "      <td>Bitcoin, Carbon Credits And Regenerative Farming</td>\n",
       "      <td>How can Bitcoiners accelerate a transition int...</td>\n",
       "      <td>An article discussing a speculative attack on ...</td>\n",
       "      <td>2021-07-19</td>\n",
       "      <td>en</td>\n",
       "    </tr>\n",
       "    <tr>\n",
       "      <th>11</th>\n",
       "      <td>Initial Access Brokers refine their ransomware...</td>\n",
       "      <td>We've looked before at the phenomenon of Initi...</td>\n",
       "      <td>We've looked before at the phenomenon of Initi...</td>\n",
       "      <td>2021-08-02</td>\n",
       "      <td>en</td>\n",
       "    </tr>\n",
       "    <tr>\n",
       "      <th>12</th>\n",
       "      <td>THE BITCOIN FUND ESTABLISHES AT-THE-MARKET EQU...</td>\n",
       "      <td>Toronto, July 13, 2021 (GLOBE NEWSWIRE) -- Not...</td>\n",
       "      <td>Toronto, July 13, 2021 (GLOBE NEWSWIRE) -- Not...</td>\n",
       "      <td>2021-07-13</td>\n",
       "      <td>en</td>\n",
       "    </tr>\n",
       "    <tr>\n",
       "      <th>13</th>\n",
       "      <td>Aussie Bitcoin miner to reportedly raise $200M...</td>\n",
       "      <td>New funds would enable Iris Energy to upscale ...</td>\n",
       "      <td>Iris Energy, a Sydney-based Bitcoin (BTC) mini...</td>\n",
       "      <td>2021-07-20</td>\n",
       "      <td>en</td>\n",
       "    </tr>\n",
       "    <tr>\n",
       "      <th>14</th>\n",
       "      <td>How Bitcoin Will Impact El Salvador’s Geopolitics</td>\n",
       "      <td>A survey of the history, economy, geography an...</td>\n",
       "      <td>Bitcoin will be a success in El Salvador, boos...</td>\n",
       "      <td>2021-07-15</td>\n",
       "      <td>en</td>\n",
       "    </tr>\n",
       "    <tr>\n",
       "      <th>15</th>\n",
       "      <td>Bitcoin Backers Aren’t Happy Even After SEC Si...</td>\n",
       "      <td>(Bloomberg) -- U.S. Securities and Exchange Co...</td>\n",
       "      <td>(Bloomberg) -- U.S. Securities and Exchange Co...</td>\n",
       "      <td>2021-08-03</td>\n",
       "      <td>en</td>\n",
       "    </tr>\n",
       "    <tr>\n",
       "      <th>16</th>\n",
       "      <td>What The ETF: VanEck Is Not Giving Up on SEC A...</td>\n",
       "      <td>The VanEck Bitcoin Trust is an ETF that has un...</td>\n",
       "      <td>The VanEck Bitcoin Trust is an exchange-traded...</td>\n",
       "      <td>2021-07-10</td>\n",
       "      <td>en</td>\n",
       "    </tr>\n",
       "    <tr>\n",
       "      <th>17</th>\n",
       "      <td>Wall Street Breakfast: The ₿ Word</td>\n",
       "      <td>Listen on the go! A daily podcast of Wall Stre...</td>\n",
       "      <td>Listen on the go! A daily podcast of Wall Stre...</td>\n",
       "      <td>2021-07-21</td>\n",
       "      <td>en</td>\n",
       "    </tr>\n",
       "    <tr>\n",
       "      <th>18</th>\n",
       "      <td>Bit Digital, Inc. appoints Justin Zhu as Vice ...</td>\n",
       "      <td>Bit Digital, Inc. (Nasdaq: BTBT) (\"Bit Digital...</td>\n",
       "      <td>NEW YORK, July 20, 2021 /PRNewswire/ -- Bit Di...</td>\n",
       "      <td>2021-07-20</td>\n",
       "      <td>en</td>\n",
       "    </tr>\n",
       "    <tr>\n",
       "      <th>19</th>\n",
       "      <td>Fireside Chat Between Bit Digital and Marathon...</td>\n",
       "      <td>Bit Digital, Inc. (Nasdaq: BTBT) (\"Bit Digital...</td>\n",
       "      <td>NEW YORK, July 27, 2021 /PRNewswire/ -- Bit Di...</td>\n",
       "      <td>2021-07-27</td>\n",
       "      <td>en</td>\n",
       "    </tr>\n",
       "  </tbody>\n",
       "</table>\n",
       "</div>"
      ],
      "text/plain": [
       "                                                title  \\\n",
       "0   More Bitcoin Miners Head to America, Partly fo...   \n",
       "1   This Week in Apps: Clubhouse opens up, Twitter...   \n",
       "2   Stock market news live updates: Wall Street di...   \n",
       "3   US futures fall with stocks on China selloff -...   \n",
       "4                       What if bitcoin went to zero?   \n",
       "5   Here's Why Riot Blockchain Stock Was Up 39% in...   \n",
       "6   SEC Commissioner Has Had It With Bitcoin ETF O...   \n",
       "7   : Here’s what could turn a ‘breather’ for stoc...   \n",
       "8   Bitcoin mining operations rise in US and Kazak...   \n",
       "9   Survey: Canadian Investors & Advisors Bullish ...   \n",
       "10   Bitcoin, Carbon Credits And Regenerative Farming   \n",
       "11  Initial Access Brokers refine their ransomware...   \n",
       "12  THE BITCOIN FUND ESTABLISHES AT-THE-MARKET EQU...   \n",
       "13  Aussie Bitcoin miner to reportedly raise $200M...   \n",
       "14  How Bitcoin Will Impact El Salvador’s Geopolitics   \n",
       "15  Bitcoin Backers Aren’t Happy Even After SEC Si...   \n",
       "16  What The ETF: VanEck Is Not Giving Up on SEC A...   \n",
       "17                  Wall Street Breakfast: The ₿ Word   \n",
       "18  Bit Digital, Inc. appoints Justin Zhu as Vice ...   \n",
       "19  Fireside Chat Between Bit Digital and Marathon...   \n",
       "\n",
       "                                          description  \\\n",
       "0   \"Well before China decided to kick out all of ...   \n",
       "1   <ol><li>This Week in Apps: Clubhouse opens up,...   \n",
       "2   <ol><li>Stock market news live updates: Wall S...   \n",
       "3   <ol><li>US futures fall with stocks on China s...   \n",
       "4   A thought experiment helps uncover the links b...   \n",
       "5   Analysts were loving its deal with a fintech c...   \n",
       "6   The SEC Commission’s leading bitcoin advocate ...   \n",
       "7   Chip stocks are where investors are going to g...   \n",
       "8   Mass exodus of bitcoin mining from China could...   \n",
       "9   Heading into the third quarter of 2021, Canadi...   \n",
       "10  How can Bitcoiners accelerate a transition int...   \n",
       "11  We've looked before at the phenomenon of Initi...   \n",
       "12  Toronto, July 13, 2021 (GLOBE NEWSWIRE) -- Not...   \n",
       "13  New funds would enable Iris Energy to upscale ...   \n",
       "14  A survey of the history, economy, geography an...   \n",
       "15  (Bloomberg) -- U.S. Securities and Exchange Co...   \n",
       "16  The VanEck Bitcoin Trust is an ETF that has un...   \n",
       "17  Listen on the go! A daily podcast of Wall Stre...   \n",
       "18  Bit Digital, Inc. (Nasdaq: BTBT) (\"Bit Digital...   \n",
       "19  Bit Digital, Inc. (Nasdaq: BTBT) (\"Bit Digital...   \n",
       "\n",
       "                                                 text        date language  \n",
       "0   The U.S. has fast become the new darling of th...  2021-07-18       en  \n",
       "1   Welcome back to This Week in Apps, the weekly ...  2021-07-24       en  \n",
       "2   Rising concerns about inflation and the resurg...  2021-07-19       en  \n",
       "3   U.S. stocks fell from all-time highs as invest...  2021-07-27       en  \n",
       "4   THE RECENT expansion of the crypto-universe is...  2021-08-02       en  \n",
       "5   What happened\\r\\nShares of cryptocurrency mini...  2021-07-05       en  \n",
       "6   Hester Peirce \\r\\nHester Peirce \\r\\nSecurities...  2021-07-22       en  \n",
       "7   After the Fourth of July holiday, equities loo...  2021-07-06       en  \n",
       "8   The US and Kazakhstan are seeing a surge in bi...  2021-07-19       en  \n",
       "9   TORONTO, July 16, 2021 /CNW/ - Heading into th...  2021-07-16       en  \n",
       "10  An article discussing a speculative attack on ...  2021-07-19       en  \n",
       "11  We've looked before at the phenomenon of Initi...  2021-08-02       en  \n",
       "12  Toronto, July 13, 2021 (GLOBE NEWSWIRE) -- Not...  2021-07-13       en  \n",
       "13  Iris Energy, a Sydney-based Bitcoin (BTC) mini...  2021-07-20       en  \n",
       "14  Bitcoin will be a success in El Salvador, boos...  2021-07-15       en  \n",
       "15  (Bloomberg) -- U.S. Securities and Exchange Co...  2021-08-03       en  \n",
       "16  The VanEck Bitcoin Trust is an exchange-traded...  2021-07-10       en  \n",
       "17  Listen on the go! A daily podcast of Wall Stre...  2021-07-21       en  \n",
       "18  NEW YORK, July 20, 2021 /PRNewswire/ -- Bit Di...  2021-07-20       en  \n",
       "19  NEW YORK, July 27, 2021 /PRNewswire/ -- Bit Di...  2021-07-27       en  "
      ]
     },
     "execution_count": 13,
     "metadata": {},
     "output_type": "execute_result"
    }
   ],
   "source": [
    "# Create a new tokens column for Bitcoin\n",
    "bitcoin_news_en_df.append(words)"
   ]
  },
  {
   "cell_type": "code",
   "execution_count": 14,
   "metadata": {},
   "outputs": [
    {
     "data": {
      "text/html": [
       "<div>\n",
       "<style scoped>\n",
       "    .dataframe tbody tr th:only-of-type {\n",
       "        vertical-align: middle;\n",
       "    }\n",
       "\n",
       "    .dataframe tbody tr th {\n",
       "        vertical-align: top;\n",
       "    }\n",
       "\n",
       "    .dataframe thead th {\n",
       "        text-align: right;\n",
       "    }\n",
       "</style>\n",
       "<table border=\"1\" class=\"dataframe\">\n",
       "  <thead>\n",
       "    <tr style=\"text-align: right;\">\n",
       "      <th></th>\n",
       "      <th>title</th>\n",
       "      <th>description</th>\n",
       "      <th>text</th>\n",
       "      <th>date</th>\n",
       "      <th>language</th>\n",
       "    </tr>\n",
       "  </thead>\n",
       "  <tbody>\n",
       "    <tr>\n",
       "      <th>0</th>\n",
       "      <td>SEC Commissioner Has Had It With Bitcoin ETF O...</td>\n",
       "      <td>The SEC Commission’s leading bitcoin advocate ...</td>\n",
       "      <td>Hester Peirce \\r\\nHester Peirce \\r\\nSecurities...</td>\n",
       "      <td>2021-07-22</td>\n",
       "      <td>en</td>\n",
       "    </tr>\n",
       "    <tr>\n",
       "      <th>1</th>\n",
       "      <td>How Axie Infinity Creates Work in the Metaverse</td>\n",
       "      <td>A cute NFT pet game called Axie Infinity is cu...</td>\n",
       "      <td>Having collected over $30 million in fees in t...</td>\n",
       "      <td>2021-07-17</td>\n",
       "      <td>en</td>\n",
       "    </tr>\n",
       "    <tr>\n",
       "      <th>2</th>\n",
       "      <td>Binance news, Circle plans to go public, and b...</td>\n",
       "      <td>FinCEN appoints a chief digital currency advis...</td>\n",
       "      <td>Coming every Saturday, Hodlers Digest will hel...</td>\n",
       "      <td>2021-07-10</td>\n",
       "      <td>en</td>\n",
       "    </tr>\n",
       "    <tr>\n",
       "      <th>3</th>\n",
       "      <td>HIVE Blockchain Announces Late Filing of Annua...</td>\n",
       "      <td>This news release constitutes a \"designated ne...</td>\n",
       "      <td>This news release constitutes a \"designated ne...</td>\n",
       "      <td>2021-07-30</td>\n",
       "      <td>en</td>\n",
       "    </tr>\n",
       "    <tr>\n",
       "      <th>4</th>\n",
       "      <td>HIVE Reaches $200 Million Annual Run Rate and ...</td>\n",
       "      <td>This news release constitutes a “designated ne...</td>\n",
       "      <td>This news release constitutes a designated new...</td>\n",
       "      <td>2021-07-30</td>\n",
       "      <td>en</td>\n",
       "    </tr>\n",
       "    <tr>\n",
       "      <th>5</th>\n",
       "      <td>The inside story of how an ambitious African c...</td>\n",
       "      <td>Without a business plan template, a blockchain...</td>\n",
       "      <td>In 2018, three intrepid entrepreneurs from Ang...</td>\n",
       "      <td>2021-07-05</td>\n",
       "      <td>en</td>\n",
       "    </tr>\n",
       "    <tr>\n",
       "      <th>6</th>\n",
       "      <td>Tokens.com Purchases Tokens of Blockchain-Base...</td>\n",
       "      <td>TORONTO--(BUSINESS WIRE)--Tokens.com Corp. (NE...</td>\n",
       "      <td>TORONTO--(BUSINESS WIRE)--Tokens.com Corp. (NE...</td>\n",
       "      <td>2021-07-28</td>\n",
       "      <td>en</td>\n",
       "    </tr>\n",
       "    <tr>\n",
       "      <th>7</th>\n",
       "      <td>OTC Markets Hits Major Milestones in Mid-Year ...</td>\n",
       "      <td>Photo by Kyrie Kim on Unsplash In a similar ve...</td>\n",
       "      <td>Photo by Kyrie Kim on Unsplash\\r\\nIn a similar...</td>\n",
       "      <td>2021-07-28</td>\n",
       "      <td>en</td>\n",
       "    </tr>\n",
       "    <tr>\n",
       "      <th>8</th>\n",
       "      <td>Money Stuff: Jamie Dimon Got a Bonus</td>\n",
       "      <td>What happened  here?</td>\n",
       "      <td>Executive comp\\r\\nWhat happened \\r\\nhere?\\r\\nJ...</td>\n",
       "      <td>2021-07-21</td>\n",
       "      <td>en</td>\n",
       "    </tr>\n",
       "    <tr>\n",
       "      <th>9</th>\n",
       "      <td>Market Wrap: Bitcoin and Ether Rise on Bullish...</td>\n",
       "      <td>Bulls returned to defend short-term support in...</td>\n",
       "      <td>Bitcoin bounced back toward $39,000 on Wednesd...</td>\n",
       "      <td>2021-08-04</td>\n",
       "      <td>en</td>\n",
       "    </tr>\n",
       "    <tr>\n",
       "      <th>10</th>\n",
       "      <td>Daily Tech News 24 July 2021</td>\n",
       "      <td>Top Stories Deploying a new blockchain - I hat...</td>\n",
       "      <td>Daily Tech News 24 July 2021\\r\\nTop Stories\\r\\...</td>\n",
       "      <td>2021-07-24</td>\n",
       "      <td>en</td>\n",
       "    </tr>\n",
       "    <tr>\n",
       "      <th>11</th>\n",
       "      <td>Inside the ‘Wild West’ of cryptocurrencies and...</td>\n",
       "      <td>&lt;p&gt;In early June, when Brayden LeBlanc saw fou...</td>\n",
       "      <td>In early June, when Brayden LeBlanc saw four i...</td>\n",
       "      <td>2021-07-21</td>\n",
       "      <td>en</td>\n",
       "    </tr>\n",
       "    <tr>\n",
       "      <th>12</th>\n",
       "      <td>A 30-year commodities and futures veteran shar...</td>\n",
       "      <td>Summary List PlacementThe two largest cryptocu...</td>\n",
       "      <td>The two largest cryptocurrencies got a much-ne...</td>\n",
       "      <td>2021-07-23</td>\n",
       "      <td>en</td>\n",
       "    </tr>\n",
       "    <tr>\n",
       "      <th>13</th>\n",
       "      <td>Cult Wines Releases NFT of Original Digital Ar...</td>\n",
       "      <td>LONDON--(BUSINESS WIRE)--Cult Wines, the globa...</td>\n",
       "      <td>LONDON--(BUSINESS WIRE)--Cult Wines, the globa...</td>\n",
       "      <td>2021-07-12</td>\n",
       "      <td>en</td>\n",
       "    </tr>\n",
       "    <tr>\n",
       "      <th>14</th>\n",
       "      <td>21Shares &amp; comdirect Announce Exclusive Crypto...</td>\n",
       "      <td>Largest digital ETP issuer and most popular Ge...</td>\n",
       "      <td>Largest digital ETP issuer and most popular Ge...</td>\n",
       "      <td>2021-07-13</td>\n",
       "      <td>en</td>\n",
       "    </tr>\n",
       "    <tr>\n",
       "      <th>15</th>\n",
       "      <td>3 of the Best Value Stocks to Buy Under $50 in...</td>\n",
       "      <td>Are you looking for stocks that you can buy an...</td>\n",
       "      <td>Today, I will talk about a famous quote of War...</td>\n",
       "      <td>2021-07-30</td>\n",
       "      <td>en</td>\n",
       "    </tr>\n",
       "    <tr>\n",
       "      <th>16</th>\n",
       "      <td>Digatrade Acquires Exclusive 5-Year Technology...</td>\n",
       "      <td>\"Shareholder &amp; Future Plans Update\"VANCOUVER, ...</td>\n",
       "      <td>\"Shareholder &amp;amp; Future Plans Update\"\\r\\nVAN...</td>\n",
       "      <td>2021-07-12</td>\n",
       "      <td>en</td>\n",
       "    </tr>\n",
       "    <tr>\n",
       "      <th>17</th>\n",
       "      <td>Isabell Moessler Appointed New Head Of Distrib...</td>\n",
       "      <td>Zurich 22.07.2021 - 21Shares AG, the Swiss pio...</td>\n",
       "      <td>Zurich 22.07.2021 - 21Shares AG, the Swiss pio...</td>\n",
       "      <td>2021-07-22</td>\n",
       "      <td>en</td>\n",
       "    </tr>\n",
       "    <tr>\n",
       "      <th>18</th>\n",
       "      <td>Who takes gold in the crypto and blockchain Ol...</td>\n",
       "      <td>In the spirit of the Olympic Games undergoing ...</td>\n",
       "      <td>Every four years (usually), the world comes to...</td>\n",
       "      <td>2021-07-30</td>\n",
       "      <td>en</td>\n",
       "    </tr>\n",
       "    <tr>\n",
       "      <th>19</th>\n",
       "      <td>10 Best Stocks Under $10 to Buy Right Now</td>\n",
       "      <td>In this article, we will be looking at the 10 ...</td>\n",
       "      <td>In this article, we will be looking at the 10 ...</td>\n",
       "      <td>2021-07-12</td>\n",
       "      <td>en</td>\n",
       "    </tr>\n",
       "  </tbody>\n",
       "</table>\n",
       "</div>"
      ],
      "text/plain": [
       "                                                title  \\\n",
       "0   SEC Commissioner Has Had It With Bitcoin ETF O...   \n",
       "1     How Axie Infinity Creates Work in the Metaverse   \n",
       "2   Binance news, Circle plans to go public, and b...   \n",
       "3   HIVE Blockchain Announces Late Filing of Annua...   \n",
       "4   HIVE Reaches $200 Million Annual Run Rate and ...   \n",
       "5   The inside story of how an ambitious African c...   \n",
       "6   Tokens.com Purchases Tokens of Blockchain-Base...   \n",
       "7   OTC Markets Hits Major Milestones in Mid-Year ...   \n",
       "8                Money Stuff: Jamie Dimon Got a Bonus   \n",
       "9   Market Wrap: Bitcoin and Ether Rise on Bullish...   \n",
       "10                       Daily Tech News 24 July 2021   \n",
       "11  Inside the ‘Wild West’ of cryptocurrencies and...   \n",
       "12  A 30-year commodities and futures veteran shar...   \n",
       "13  Cult Wines Releases NFT of Original Digital Ar...   \n",
       "14  21Shares & comdirect Announce Exclusive Crypto...   \n",
       "15  3 of the Best Value Stocks to Buy Under $50 in...   \n",
       "16  Digatrade Acquires Exclusive 5-Year Technology...   \n",
       "17  Isabell Moessler Appointed New Head Of Distrib...   \n",
       "18  Who takes gold in the crypto and blockchain Ol...   \n",
       "19          10 Best Stocks Under $10 to Buy Right Now   \n",
       "\n",
       "                                          description  \\\n",
       "0   The SEC Commission’s leading bitcoin advocate ...   \n",
       "1   A cute NFT pet game called Axie Infinity is cu...   \n",
       "2   FinCEN appoints a chief digital currency advis...   \n",
       "3   This news release constitutes a \"designated ne...   \n",
       "4   This news release constitutes a “designated ne...   \n",
       "5   Without a business plan template, a blockchain...   \n",
       "6   TORONTO--(BUSINESS WIRE)--Tokens.com Corp. (NE...   \n",
       "7   Photo by Kyrie Kim on Unsplash In a similar ve...   \n",
       "8                                What happened  here?   \n",
       "9   Bulls returned to defend short-term support in...   \n",
       "10  Top Stories Deploying a new blockchain - I hat...   \n",
       "11  <p>In early June, when Brayden LeBlanc saw fou...   \n",
       "12  Summary List PlacementThe two largest cryptocu...   \n",
       "13  LONDON--(BUSINESS WIRE)--Cult Wines, the globa...   \n",
       "14  Largest digital ETP issuer and most popular Ge...   \n",
       "15  Are you looking for stocks that you can buy an...   \n",
       "16  \"Shareholder & Future Plans Update\"VANCOUVER, ...   \n",
       "17  Zurich 22.07.2021 - 21Shares AG, the Swiss pio...   \n",
       "18  In the spirit of the Olympic Games undergoing ...   \n",
       "19  In this article, we will be looking at the 10 ...   \n",
       "\n",
       "                                                 text        date language  \n",
       "0   Hester Peirce \\r\\nHester Peirce \\r\\nSecurities...  2021-07-22       en  \n",
       "1   Having collected over $30 million in fees in t...  2021-07-17       en  \n",
       "2   Coming every Saturday, Hodlers Digest will hel...  2021-07-10       en  \n",
       "3   This news release constitutes a \"designated ne...  2021-07-30       en  \n",
       "4   This news release constitutes a designated new...  2021-07-30       en  \n",
       "5   In 2018, three intrepid entrepreneurs from Ang...  2021-07-05       en  \n",
       "6   TORONTO--(BUSINESS WIRE)--Tokens.com Corp. (NE...  2021-07-28       en  \n",
       "7   Photo by Kyrie Kim on Unsplash\\r\\nIn a similar...  2021-07-28       en  \n",
       "8   Executive comp\\r\\nWhat happened \\r\\nhere?\\r\\nJ...  2021-07-21       en  \n",
       "9   Bitcoin bounced back toward $39,000 on Wednesd...  2021-08-04       en  \n",
       "10  Daily Tech News 24 July 2021\\r\\nTop Stories\\r\\...  2021-07-24       en  \n",
       "11  In early June, when Brayden LeBlanc saw four i...  2021-07-21       en  \n",
       "12  The two largest cryptocurrencies got a much-ne...  2021-07-23       en  \n",
       "13  LONDON--(BUSINESS WIRE)--Cult Wines, the globa...  2021-07-12       en  \n",
       "14  Largest digital ETP issuer and most popular Ge...  2021-07-13       en  \n",
       "15  Today, I will talk about a famous quote of War...  2021-07-30       en  \n",
       "16  \"Shareholder &amp; Future Plans Update\"\\r\\nVAN...  2021-07-12       en  \n",
       "17  Zurich 22.07.2021 - 21Shares AG, the Swiss pio...  2021-07-22       en  \n",
       "18  Every four years (usually), the world comes to...  2021-07-30       en  \n",
       "19  In this article, we will be looking at the 10 ...  2021-07-12       en  "
      ]
     },
     "execution_count": 14,
     "metadata": {},
     "output_type": "execute_result"
    }
   ],
   "source": [
    "# Create a new tokens column for Ethereum\n",
    "ethereum_news_en_df.append(words)"
   ]
  },
  {
   "cell_type": "markdown",
   "metadata": {},
   "source": [
    "---"
   ]
  },
  {
   "cell_type": "markdown",
   "metadata": {},
   "source": [
    "### NGrams and Frequency Analysis\n",
    "\n",
    "In this section you will look at the ngrams and word frequency for each coin. \n",
    "\n",
    "1. Use NLTK to produce the n-grams for N = 2. \n",
    "2. List the top 10 words for each coin. "
   ]
  },
  {
   "cell_type": "code",
   "execution_count": 15,
   "metadata": {},
   "outputs": [],
   "source": [
    "from collections import Counter\n",
    "from nltk import ngrams"
   ]
  },
  {
   "cell_type": "code",
   "execution_count": 17,
   "metadata": {},
   "outputs": [],
   "source": [
    "article = bitcoin_news_en_df"
   ]
  },
  {
   "cell_type": "code",
   "execution_count": 20,
   "metadata": {},
   "outputs": [],
   "source": [
    "# Generate the Bitcoin N-grams where N=2\n",
    "\n",
    "def process_text(article):\n",
    "    sw = set(stopwords.words('english'))\n",
    "    regex = re.compile(\"[^a-zA-Z ]\")\n",
    "    re_clean = regex.sub('', article)\n",
    "    words = word_tokenize(re_clean)\n",
    "    lem = [lemmatizer.lemmatize(word) for word in words]\n",
    "    output = [word.lower() for word in lem if word.lower() not in sw]\n",
    "    return output\n",
    "\n",
    "processed = process_article(article)\n",
    "\n",
    "ngrams_counts = Counter(ngrams(processed, n=2))"
   ]
  },
  {
   "cell_type": "code",
   "execution_count": null,
   "metadata": {},
   "outputs": [],
   "source": [
    "# Generate the Ethereum N-grams where N=2\n",
    "# YOUR CODE HERE!"
   ]
  },
  {
   "cell_type": "code",
   "execution_count": null,
   "metadata": {},
   "outputs": [],
   "source": [
    "# Function token_count generates the top 10 words for a given coin\n",
    "def token_count(tokens, N=3):\n",
    "    \"\"\"Returns the top N tokens from the frequency count\"\"\"\n",
    "    return Counter(tokens).most_common(N)"
   ]
  },
  {
   "cell_type": "code",
   "execution_count": null,
   "metadata": {},
   "outputs": [],
   "source": [
    "# Use token_count to get the top 10 words for Bitcoin\n",
    "# YOUR CODE HERE!"
   ]
  },
  {
   "cell_type": "code",
   "execution_count": null,
   "metadata": {},
   "outputs": [],
   "source": [
    "# Use token_count to get the top 10 words for Ethereum\n",
    "# YOUR CODE HERE!"
   ]
  },
  {
   "cell_type": "markdown",
   "metadata": {},
   "source": [
    "---"
   ]
  },
  {
   "cell_type": "markdown",
   "metadata": {},
   "source": [
    "### Word Clouds\n",
    "\n",
    "In this section, you will generate word clouds for each coin to summarize the news for each coin"
   ]
  },
  {
   "cell_type": "code",
   "execution_count": 21,
   "metadata": {},
   "outputs": [],
   "source": [
    "from wordcloud import WordCloud\n",
    "import matplotlib.pyplot as plt\n",
    "plt.style.use('seaborn-whitegrid')\n",
    "import matplotlib as mpl\n",
    "mpl.rcParams['figure.figsize'] = [20.0, 10.0]"
   ]
  },
  {
   "cell_type": "code",
   "execution_count": 22,
   "metadata": {},
   "outputs": [
    {
     "data": {
      "text/plain": [
       "<matplotlib.image.AxesImage at 0x24268856a60>"
      ]
     },
     "execution_count": 22,
     "metadata": {},
     "output_type": "execute_result"
    },
    {
     "data": {
      "image/png": "[encoded data removed]",
      "text/plain": [
       "<Figure size 1440x720 with 1 Axes>"
      ]
     },
     "metadata": {},
     "output_type": "display_data"
    }
   ],
   "source": [
    "# Generate the Bitcoin word cloud\n",
    "\n",
    "def process_text(doc):\n",
    "    sw = set(stopwords.words('english'))\n",
    "    regex = re.compile(\"[^a-zA-Z ]\")\n",
    "    re_clean = regex.sub('', doc)\n",
    "    words = word_tokenize(re_clean)\n",
    "    lem = [lemmatizer.lemmatize(word) for word in words]\n",
    "    output = [word.lower() for word in lem if word.lower() not in sw]\n",
    "    return ' '.join(output)\n",
    "\n",
    "big_string = ' '.join(bitcoin_news_en)\n",
    "input_words = process_text(big_string)\n",
    "\n",
    "wc = WordCloud().generate(input_words)\n",
    "plt.imshow(wc)"
   ]
  },
  {
   "cell_type": "code",
   "execution_count": 23,
   "metadata": {},
   "outputs": [
    {
     "data": {
      "text/plain": [
       "<matplotlib.image.AxesImage at 0x24268f889a0>"
      ]
     },
     "execution_count": 23,
     "metadata": {},
     "output_type": "execute_result"
    },
    {
     "data": {
      "image/png": "[encoded data removed]",
      "text/plain": [
       "<Figure size 1440x720 with 1 Axes>"
      ]
     },
     "metadata": {},
     "output_type": "display_data"
    }
   ],
   "source": [
    "# Generate the Ethereum word cloud\n",
    "def process_text(doc):\n",
    "    sw = set(stopwords.words('english'))\n",
    "    regex = re.compile(\"[^a-zA-Z ]\")\n",
    "    re_clean = regex.sub('', doc)\n",
    "    words = word_tokenize(re_clean)\n",
    "    lem = [lemmatizer.lemmatize(word) for word in words]\n",
    "    output = [word.lower() for word in lem if word.lower() not in sw]\n",
    "    return ' '.join(output)\n",
    "\n",
    "big_string = ' '.join(ethereum_news_en)\n",
    "input_words = process_text(big_string)\n",
    "\n",
    "wc = WordCloud().generate(input_words)\n",
    "plt.imshow(wc)"
   ]
  },
  {
   "cell_type": "markdown",
   "metadata": {},
   "source": [
    "---\n",
    "## 3. Named Entity Recognition\n",
    "\n",
    "In this section, you will build a named entity recognition model for both Bitcoin and Ethereum, then visualize the tags using SpaCy."
   ]
  },
  {
   "cell_type": "code",
   "execution_count": 24,
   "metadata": {},
   "outputs": [],
   "source": [
    "import spacy\n",
    "from spacy import displacy"
   ]
  },
  {
   "cell_type": "code",
   "execution_count": null,
   "metadata": {},
   "outputs": [],
   "source": [
    "# Download the language model for SpaCy\n",
    "# !python -m spacy download en_core_web_sm\n",
    "\n"
   ]
  },
  {
   "cell_type": "code",
   "execution_count": 25,
   "metadata": {},
   "outputs": [],
   "source": [
    "# Load the spaCy model\n",
    "nlp = spacy.load('en_core_web_sm')"
   ]
  },
  {
   "cell_type": "markdown",
   "metadata": {},
   "source": [
    "---\n",
    "### Bitcoin NER"
   ]
  },
  {
   "cell_type": "code",
   "execution_count": 26,
   "metadata": {},
   "outputs": [],
   "source": [
    "# Concatenate all of the Bitcoin text together\n",
    "doc = bitcoin_news_en"
   ]
  },
  {
   "cell_type": "code",
   "execution_count": 27,
   "metadata": {},
   "outputs": [
    {
     "ename": "AttributeError",
     "evalue": "'dict' object has no attribute 'ents'",
     "output_type": "error",
     "traceback": [
      "\u001b[1;31m---------------------------------------------------------------------------\u001b[0m",
      "\u001b[1;31mAttributeError\u001b[0m                            Traceback (most recent call last)",
      "\u001b[1;32m<ipython-input-27-01a0cb418ce0>\u001b[0m in \u001b[0;36m<module>\u001b[1;34m\u001b[0m\n\u001b[0;32m      1\u001b[0m \u001b[1;31m# Run the NER processor on all of the text\u001b[0m\u001b[1;33m\u001b[0m\u001b[1;33m\u001b[0m\u001b[1;33m\u001b[0m\u001b[0m\n\u001b[1;32m----> 2\u001b[1;33m \u001b[0mdisplacy\u001b[0m\u001b[1;33m.\u001b[0m\u001b[0mrender\u001b[0m\u001b[1;33m(\u001b[0m\u001b[0mdoc\u001b[0m\u001b[1;33m,\u001b[0m \u001b[0mstyle\u001b[0m\u001b[1;33m=\u001b[0m\u001b[1;34m'ent'\u001b[0m\u001b[1;33m)\u001b[0m\u001b[1;33m\u001b[0m\u001b[1;33m\u001b[0m\u001b[0m\n\u001b[0m\u001b[0;32m      3\u001b[0m \u001b[1;33m\u001b[0m\u001b[0m\n\u001b[0;32m      4\u001b[0m \u001b[1;31m# Add a title to the document\u001b[0m\u001b[1;33m\u001b[0m\u001b[1;33m\u001b[0m\u001b[1;33m\u001b[0m\u001b[0m\n\u001b[0;32m      5\u001b[0m \u001b[1;31m# YOUR CODE HERE!\u001b[0m\u001b[1;33m\u001b[0m\u001b[1;33m\u001b[0m\u001b[1;33m\u001b[0m\u001b[0m\n",
      "\u001b[1;32m~\\Anaconda3\\lib\\site-packages\\spacy\\displacy\\__init__.py\u001b[0m in \u001b[0;36mrender\u001b[1;34m(docs, style, page, minify, jupyter, options, manual)\u001b[0m\n\u001b[0;32m     54\u001b[0m     \u001b[0mrenderer_func\u001b[0m\u001b[1;33m,\u001b[0m \u001b[0mconverter\u001b[0m \u001b[1;33m=\u001b[0m \u001b[0mfactories\u001b[0m\u001b[1;33m[\u001b[0m\u001b[0mstyle\u001b[0m\u001b[1;33m]\u001b[0m\u001b[1;33m\u001b[0m\u001b[1;33m\u001b[0m\u001b[0m\n\u001b[0;32m     55\u001b[0m     \u001b[0mrenderer\u001b[0m \u001b[1;33m=\u001b[0m \u001b[0mrenderer_func\u001b[0m\u001b[1;33m(\u001b[0m\u001b[0moptions\u001b[0m\u001b[1;33m=\u001b[0m\u001b[0moptions\u001b[0m\u001b[1;33m)\u001b[0m\u001b[1;33m\u001b[0m\u001b[1;33m\u001b[0m\u001b[0m\n\u001b[1;32m---> 56\u001b[1;33m     \u001b[0mparsed\u001b[0m \u001b[1;33m=\u001b[0m \u001b[1;33m[\u001b[0m\u001b[0mconverter\u001b[0m\u001b[1;33m(\u001b[0m\u001b[0mdoc\u001b[0m\u001b[1;33m,\u001b[0m \u001b[0moptions\u001b[0m\u001b[1;33m)\u001b[0m \u001b[1;32mfor\u001b[0m \u001b[0mdoc\u001b[0m \u001b[1;32min\u001b[0m \u001b[0mdocs\u001b[0m\u001b[1;33m]\u001b[0m \u001b[1;32mif\u001b[0m \u001b[1;32mnot\u001b[0m \u001b[0mmanual\u001b[0m \u001b[1;32melse\u001b[0m \u001b[0mdocs\u001b[0m\u001b[1;33m\u001b[0m\u001b[1;33m\u001b[0m\u001b[0m\n\u001b[0m\u001b[0;32m     57\u001b[0m     \u001b[0m_html\u001b[0m\u001b[1;33m[\u001b[0m\u001b[1;34m\"parsed\"\u001b[0m\u001b[1;33m]\u001b[0m \u001b[1;33m=\u001b[0m \u001b[0mrenderer\u001b[0m\u001b[1;33m.\u001b[0m\u001b[0mrender\u001b[0m\u001b[1;33m(\u001b[0m\u001b[0mparsed\u001b[0m\u001b[1;33m,\u001b[0m \u001b[0mpage\u001b[0m\u001b[1;33m=\u001b[0m\u001b[0mpage\u001b[0m\u001b[1;33m,\u001b[0m \u001b[0mminify\u001b[0m\u001b[1;33m=\u001b[0m\u001b[0mminify\u001b[0m\u001b[1;33m)\u001b[0m\u001b[1;33m.\u001b[0m\u001b[0mstrip\u001b[0m\u001b[1;33m(\u001b[0m\u001b[1;33m)\u001b[0m\u001b[1;33m\u001b[0m\u001b[1;33m\u001b[0m\u001b[0m\n\u001b[0;32m     58\u001b[0m     \u001b[0mhtml\u001b[0m \u001b[1;33m=\u001b[0m \u001b[0m_html\u001b[0m\u001b[1;33m[\u001b[0m\u001b[1;34m\"parsed\"\u001b[0m\u001b[1;33m]\u001b[0m\u001b[1;33m\u001b[0m\u001b[1;33m\u001b[0m\u001b[0m\n",
      "\u001b[1;32m~\\Anaconda3\\lib\\site-packages\\spacy\\displacy\\__init__.py\u001b[0m in \u001b[0;36m<listcomp>\u001b[1;34m(.0)\u001b[0m\n\u001b[0;32m     54\u001b[0m     \u001b[0mrenderer_func\u001b[0m\u001b[1;33m,\u001b[0m \u001b[0mconverter\u001b[0m \u001b[1;33m=\u001b[0m \u001b[0mfactories\u001b[0m\u001b[1;33m[\u001b[0m\u001b[0mstyle\u001b[0m\u001b[1;33m]\u001b[0m\u001b[1;33m\u001b[0m\u001b[1;33m\u001b[0m\u001b[0m\n\u001b[0;32m     55\u001b[0m     \u001b[0mrenderer\u001b[0m \u001b[1;33m=\u001b[0m \u001b[0mrenderer_func\u001b[0m\u001b[1;33m(\u001b[0m\u001b[0moptions\u001b[0m\u001b[1;33m=\u001b[0m\u001b[0moptions\u001b[0m\u001b[1;33m)\u001b[0m\u001b[1;33m\u001b[0m\u001b[1;33m\u001b[0m\u001b[0m\n\u001b[1;32m---> 56\u001b[1;33m     \u001b[0mparsed\u001b[0m \u001b[1;33m=\u001b[0m \u001b[1;33m[\u001b[0m\u001b[0mconverter\u001b[0m\u001b[1;33m(\u001b[0m\u001b[0mdoc\u001b[0m\u001b[1;33m,\u001b[0m \u001b[0moptions\u001b[0m\u001b[1;33m)\u001b[0m \u001b[1;32mfor\u001b[0m \u001b[0mdoc\u001b[0m \u001b[1;32min\u001b[0m \u001b[0mdocs\u001b[0m\u001b[1;33m]\u001b[0m \u001b[1;32mif\u001b[0m \u001b[1;32mnot\u001b[0m \u001b[0mmanual\u001b[0m \u001b[1;32melse\u001b[0m \u001b[0mdocs\u001b[0m\u001b[1;33m\u001b[0m\u001b[1;33m\u001b[0m\u001b[0m\n\u001b[0m\u001b[0;32m     57\u001b[0m     \u001b[0m_html\u001b[0m\u001b[1;33m[\u001b[0m\u001b[1;34m\"parsed\"\u001b[0m\u001b[1;33m]\u001b[0m \u001b[1;33m=\u001b[0m \u001b[0mrenderer\u001b[0m\u001b[1;33m.\u001b[0m\u001b[0mrender\u001b[0m\u001b[1;33m(\u001b[0m\u001b[0mparsed\u001b[0m\u001b[1;33m,\u001b[0m \u001b[0mpage\u001b[0m\u001b[1;33m=\u001b[0m\u001b[0mpage\u001b[0m\u001b[1;33m,\u001b[0m \u001b[0mminify\u001b[0m\u001b[1;33m=\u001b[0m\u001b[0mminify\u001b[0m\u001b[1;33m)\u001b[0m\u001b[1;33m.\u001b[0m\u001b[0mstrip\u001b[0m\u001b[1;33m(\u001b[0m\u001b[1;33m)\u001b[0m\u001b[1;33m\u001b[0m\u001b[1;33m\u001b[0m\u001b[0m\n\u001b[0;32m     58\u001b[0m     \u001b[0mhtml\u001b[0m \u001b[1;33m=\u001b[0m \u001b[0m_html\u001b[0m\u001b[1;33m[\u001b[0m\u001b[1;34m\"parsed\"\u001b[0m\u001b[1;33m]\u001b[0m\u001b[1;33m\u001b[0m\u001b[1;33m\u001b[0m\u001b[0m\n",
      "\u001b[1;32m~\\Anaconda3\\lib\\site-packages\\spacy\\displacy\\__init__.py\u001b[0m in \u001b[0;36mparse_ents\u001b[1;34m(doc, options)\u001b[0m\n\u001b[0;32m    186\u001b[0m     ents = [\n\u001b[0;32m    187\u001b[0m         \u001b[1;33m{\u001b[0m\u001b[1;34m\"start\"\u001b[0m\u001b[1;33m:\u001b[0m \u001b[0ment\u001b[0m\u001b[1;33m.\u001b[0m\u001b[0mstart_char\u001b[0m\u001b[1;33m,\u001b[0m \u001b[1;34m\"end\"\u001b[0m\u001b[1;33m:\u001b[0m \u001b[0ment\u001b[0m\u001b[1;33m.\u001b[0m\u001b[0mend_char\u001b[0m\u001b[1;33m,\u001b[0m \u001b[1;34m\"label\"\u001b[0m\u001b[1;33m:\u001b[0m \u001b[0ment\u001b[0m\u001b[1;33m.\u001b[0m\u001b[0mlabel_\u001b[0m\u001b[1;33m}\u001b[0m\u001b[1;33m\u001b[0m\u001b[1;33m\u001b[0m\u001b[0m\n\u001b[1;32m--> 188\u001b[1;33m         \u001b[1;32mfor\u001b[0m \u001b[0ment\u001b[0m \u001b[1;32min\u001b[0m \u001b[0mdoc\u001b[0m\u001b[1;33m.\u001b[0m\u001b[0ments\u001b[0m\u001b[1;33m\u001b[0m\u001b[1;33m\u001b[0m\u001b[0m\n\u001b[0m\u001b[0;32m    189\u001b[0m     ]\n\u001b[0;32m    190\u001b[0m     \u001b[1;32mif\u001b[0m \u001b[1;32mnot\u001b[0m \u001b[0ments\u001b[0m\u001b[1;33m:\u001b[0m\u001b[1;33m\u001b[0m\u001b[1;33m\u001b[0m\u001b[0m\n",
      "\u001b[1;31mAttributeError\u001b[0m: 'dict' object has no attribute 'ents'"
     ]
    }
   ],
   "source": [
    "# Run the NER processor on all of the text\n",
    "displacy.render(doc, style='ent')\n",
    "\n",
    "# Add a title to the document\n",
    "# YOUR CODE HERE!"
   ]
  },
  {
   "cell_type": "code",
   "execution_count": null,
   "metadata": {},
   "outputs": [],
   "source": [
    "# Render the visualization\n",
    "# YOUR CODE HERE!"
   ]
  },
  {
   "cell_type": "code",
   "execution_count": null,
   "metadata": {},
   "outputs": [],
   "source": [
    "# List all Entities\n",
    "# YOUR CODE HERE!"
   ]
  },
  {
   "cell_type": "markdown",
   "metadata": {},
   "source": [
    "---"
   ]
  },
  {
   "cell_type": "markdown",
   "metadata": {},
   "source": [
    "### Ethereum NER"
   ]
  },
  {
   "cell_type": "code",
   "execution_count": null,
   "metadata": {},
   "outputs": [],
   "source": [
    "# Concatenate all of the Ethereum text together\n",
    "# YOUR CODE HERE!"
   ]
  },
  {
   "cell_type": "code",
   "execution_count": null,
   "metadata": {},
   "outputs": [],
   "source": [
    "# Run the NER processor on all of the text\n",
    "# YOUR CODE HERE!\n",
    "\n",
    "# Add a title to the document\n",
    "# YOUR CODE HERE!"
   ]
  },
  {
   "cell_type": "code",
   "execution_count": null,
   "metadata": {},
   "outputs": [],
   "source": [
    "# Render the visualization\n",
    "# YOUR CODE HERE!"
   ]
  },
  {
   "cell_type": "code",
   "execution_count": null,
   "metadata": {},
   "outputs": [],
   "source": [
    "# List all Entities\n",
    "# YOUR CODE HERE!"
   ]
  },
  {
   "cell_type": "markdown",
   "metadata": {},
   "source": [
    "---"
   ]
  }
 ],
 "metadata": {
  "file_extension": ".py",
  "kernelspec": {
   "display_name": "Python 3",
   "language": "python",
   "name": "python3"
  },
  "language_info": {
   "codemirror_mode": {
    "name": "ipython",
    "version": 3
   },
   "file_extension": ".py",
   "mimetype": "text/x-python",
   "name": "python",
   "nbconvert_exporter": "python",
   "pygments_lexer": "ipython3",
   "version": "3.8.5"
  },
  "mimetype": "text/x-python",
  "name": "python",
  "npconvert_exporter": "python",
  "pygments_lexer": "ipython3",
  "version": 3
 },
 "nbformat": 4,
 "nbformat_minor": 4
}
